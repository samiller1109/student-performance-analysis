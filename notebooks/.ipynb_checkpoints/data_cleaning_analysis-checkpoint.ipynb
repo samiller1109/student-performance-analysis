{
 "cells": [
  {
   "cell_type": "code",
   "execution_count": null,
   "id": "be24de5f-8a16-4033-8c5a-04a576bd9d60",
   "metadata": {},
   "outputs": [],
   "source": [
    "# Import packages\n",
    "import pandas as pd\n",
    "import numpy as np\n",
    "import matplotlib.pyplot as plt\n",
    "import seaborn as sns\n",
    "\n",
    "# Load dataset\n",
    "df = pd.read_csv('../data/raw/StudentsPerformance.csv')\n",
    "\n",
    "# Quick overview\n",
    "print(df.head())\n",
    "print(df.info())\n",
    "\n",
    "# Clean column names (optional cleanup)\n",
    "df.columns = [col.strip().lower().replace(\" \", \"_\") for col in df.columns]\n",
    "\n",
    "# Check for missing values\n",
    "print(df.isnull().sum())\n",
    "\n",
    "# Simple stats\n",
    "print(df.describe())\n",
    "\n",
    "# Create average score column\n",
    "df['average_score'] = df[['math_score', 'reading_score', 'writing_score']].mean(axis=1)\n",
    "\n",
    "# Save cleaned data\n",
    "df.to_csv('../data/cleaned/students_performance_cleaned.csv', index=False)\n"
   ]
  }
 ],
 "metadata": {
  "kernelspec": {
   "display_name": "Python 3 (ipykernel)",
   "language": "python",
   "name": "python3"
  },
  "language_info": {
   "codemirror_mode": {
    "name": "ipython",
    "version": 3
   },
   "file_extension": ".py",
   "mimetype": "text/x-python",
   "name": "python",
   "nbconvert_exporter": "python",
   "pygments_lexer": "ipython3",
   "version": "3.13.3"
  }
 },
 "nbformat": 4,
 "nbformat_minor": 5
}
