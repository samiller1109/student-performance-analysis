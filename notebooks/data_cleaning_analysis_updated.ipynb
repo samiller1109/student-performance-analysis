{
 "cells": [
  {
   "cell_type": "markdown",
   "id": "eaf29737",
   "metadata": {},
   "source": [
    "# 🎓 Student Performance Data Analysis\n",
    "\n",
    "This notebook explores the relationship between demographic and social factors and student performance using Python, SQL, and data visualization."
   ]
  },
  {
   "cell_type": "code",
   "execution_count": null,
   "id": "17c7d717",
   "metadata": {},
   "outputs": [],
   "source": [
    "\n",
    "# Import packages\n",
    "import pandas as pd\n",
    "import numpy as np\n",
    "import matplotlib.pyplot as plt\n",
    "import seaborn as sns\n",
    "\n",
    "# Load dataset\n",
    "df = pd.read_csv('../data/raw/StudentsPerformance.csv')\n",
    "\n",
    "# Clean column names\n",
    "df.columns = [col.strip().lower().replace(\" \", \"_\") for col in df.columns]\n",
    "\n",
    "# Check for missing values\n",
    "print(df.isnull().sum())\n",
    "\n",
    "# Create average score column\n",
    "df['average_score'] = df[['math_score', 'reading_score', 'writing_score']].mean(axis=1)\n",
    "\n",
    "# Save cleaned data\n",
    "df.to_csv('../data/cleaned/students_performance_cleaned.csv', index=False)\n",
    "\n",
    "# Display info\n",
    "print(df.head())\n",
    "print(df.info())\n"
   ]
  },
  {
   "cell_type": "markdown",
   "id": "8dd788bd",
   "metadata": {},
   "source": [
    "## 📊 Average Score by Gender"
   ]
  },
  {
   "cell_type": "code",
   "execution_count": null,
   "id": "a7095e83",
   "metadata": {},
   "outputs": [],
   "source": [
    "print(df.groupby('gender')['average_score'].mean().reset_index())"
   ]
  },
  {
   "cell_type": "markdown",
   "id": "f1afa73f",
   "metadata": {},
   "source": [
    "## 🎓 Performance by Parental Level of Education"
   ]
  },
  {
   "cell_type": "code",
   "execution_count": null,
   "id": "f07de287",
   "metadata": {},
   "outputs": [],
   "source": [
    "print(df.groupby('parental_level_of_education')['average_score'].mean().sort_values(ascending=False))"
   ]
  },
  {
   "cell_type": "markdown",
   "id": "c2a59065",
   "metadata": {},
   "source": [
    "## 📘 Impact of Test Preparation Course"
   ]
  },
  {
   "cell_type": "code",
   "execution_count": null,
   "id": "2f68e81d",
   "metadata": {},
   "outputs": [],
   "source": [
    "print(df.groupby('test_preparation_course')['average_score'].agg(['mean', 'count']))"
   ]
  },
  {
   "cell_type": "markdown",
   "id": "4c106415",
   "metadata": {},
   "source": [
    "## 📈 Score Distribution Visualization"
   ]
  },
  {
   "cell_type": "code",
   "execution_count": null,
   "id": "f0a278bc",
   "metadata": {},
   "outputs": [],
   "source": [
    "\n",
    "plt.figure(figsize=(10,6))\n",
    "sns.histplot(df['average_score'], bins=20, kde=True)\n",
    "plt.title('Distribution of Average Scores')\n",
    "plt.xlabel('Average Score')\n",
    "plt.ylabel('Frequency')\n",
    "plt.savefig('../visualizations/score_distribution.png')\n",
    "plt.show()\n"
   ]
  },
  {
   "cell_type": "markdown",
   "id": "f74c40fa",
   "metadata": {},
   "source": [
    "## 🧠 Statistical Testing: Does Test Prep Help?"
   ]
  },
  {
   "cell_type": "code",
   "execution_count": null,
   "id": "97d45dcb",
   "metadata": {},
   "outputs": [],
   "source": [
    "\n",
    "from scipy.stats import ttest_ind\n",
    "\n",
    "prep = df[df['test_preparation_course'] == 'completed']['average_score']\n",
    "no_prep = df[df['test_preparation_course'] == 'none']['average_score']\n",
    "\n",
    "t_stat, p_val = ttest_ind(prep, no_prep)\n",
    "print(f\"T-statistic: {t_stat}, P-value: {p_val}\")\n"
   ]
  },
  {
   "cell_type": "markdown",
   "id": "9df184b8",
   "metadata": {},
   "source": [
    "## 🗃️ SQL: Load Cleaned Data and Query for Insights"
   ]
  },
  {
   "cell_type": "code",
   "execution_count": null,
   "id": "dd26a582",
   "metadata": {},
   "outputs": [],
   "source": [
    "\n",
    "import sqlite3\n",
    "\n",
    "# Connect to SQLite DB\n",
    "conn = sqlite3.connect('../sql/students.db')\n",
    "\n",
    "# Load cleaned data into table\n",
    "df.to_sql('students_performance', conn, if_exists='replace', index=False)\n",
    "\n",
    "# Example query\n",
    "query = '''\n",
    "SELECT gender, AVG(average_score) AS avg_score\n",
    "FROM students_performance\n",
    "GROUP BY gender;\n",
    "'''\n",
    "\n",
    "result = pd.read_sql(query, conn)\n",
    "print(result)\n"
   ]
  },
  {
   "cell_type": "markdown",
   "id": "99758145",
   "metadata": {},
   "source": [
    "## ✅ Conclusion\n",
    "This analysis reveals insights into how factors like test prep, gender, and socioeconomic indicators affect academic performance. These insights can inform future educational strategies and policy decisions."
   ]
  }
 ],
 "metadata": {
  "kernelspec": {
   "display_name": "Python 3 (ipykernel)",
   "language": "python",
   "name": "python3"
  },
  "language_info": {
   "codemirror_mode": {
    "name": "ipython",
    "version": 3
   },
   "file_extension": ".py",
   "mimetype": "text/x-python",
   "name": "python",
   "nbconvert_exporter": "python",
   "pygments_lexer": "ipython3",
   "version": "3.13.3"
  }
 },
 "nbformat": 4,
 "nbformat_minor": 5
}
